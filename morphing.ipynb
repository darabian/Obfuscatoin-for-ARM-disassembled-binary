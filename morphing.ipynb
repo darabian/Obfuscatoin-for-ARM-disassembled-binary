{
 "cells": [
  {
   "cell_type": "code",
   "execution_count": 3,
   "metadata": {
    "collapsed": true
   },
   "outputs": [],
   "source": [
    "import random\n",
    "import re\n",
    "import glob"
   ]
  },
  {
   "cell_type": "code",
   "execution_count": 1,
   "metadata": {
    "collapsed": true
   },
   "outputs": [],
   "source": [
    "instruction_set = ['AND' , 'ADD','ADC','BIC','CMN','CMP','EOR','ORR'\n",
    "                   ,'RSB','RSC','SUB','SBC','MUL','MLA','MOV','MVN' , 'TST']"
   ]
  },
  {
   "cell_type": "code",
   "execution_count": 2,
   "metadata": {
    "collapsed": true
   },
   "outputs": [],
   "source": [
    "existing_inst = ['ADC' , 'ADD','ADR','AND','BIC','BL','BL','BX','B','CDP','CMN','EOR','FLDM','LDC','LDM','LDR','MCR','MLA'\n",
    "                ,'MOVT','MOV','MRC','MUL','MVN','NOP','ORR','RET','RSB','RSC','SBC','SMULL','SMULTT','STC','STM','STR'\n",
    "                 ,'SUB','SVC','SWP','TEQ','TST','UMULL','UMLAL','VMOV']"
   ]
  },
  {
   "cell_type": "code",
   "execution_count": 5,
   "metadata": {
    "collapsed": true
   },
   "outputs": [],
   "source": [
    "#RULES\n",
    "def check_obfuscation(item):\n",
    "    rules_trued = []\n",
    "    surgary = item.split()\n",
    "    #rule 1\n",
    "    if surgary[0].startswith('MOV'):\n",
    "        if 'R' in surgary[1] and surgary[2]=='#0':\n",
    "            rules_trued.append(1)\n",
    "    #rule 2\n",
    "    if surgary[0].startswith('MOV') and 'R' in surgary[1] and '#' in surgary[2]:\n",
    "        rules_trued.append(2)\n",
    "    \n",
    "    #rule 3\n",
    "    if surgary[0].startswith('MOV') and 'R' in surgary[1] and '#' in surgary[2]:\n",
    "        rules_trued.append(3)\n",
    "    \n",
    "    #rule 4\n",
    "    if surgary[0].startswith('MUL') and 'R' in surgary[1] and  'R' in surgary[2] and  'R' in surgary[3]:\n",
    "        rules_trued.append(4)\n",
    "    \n",
    "    #rule 5\n",
    "    if len(surgary)==3 and surgary[0].startswith('EOR') and surgary[2]==surgary[3]:\n",
    "        rules_trued.append(5)\n",
    "    \n",
    "    #rule 6\n",
    "    if surgary[0].startswith('MVN') and surgary[1].startswith('R') and surgary[2].startswith('R'):\n",
    "        rules_trued.append(6)\n",
    "    \n",
    "    #rule 7\n",
    "    if surgary[0].startswith('CMP'):\n",
    "        rules_trued.append(7)\n",
    "    \n",
    "    #rule 8\n",
    "    if surgary[0].startswith('MVN') and surgary[1].startswith('R') and surgary[2].startswith('R'):\n",
    "        rules_trued.append(8)\n",
    "    \n",
    "    #rule 9\n",
    "    if len(surgary)==3 and surgary[0].startswith('TST') and '#' in surgary[2]:\n",
    "        rules_trued.append(9)\n",
    "    return rules_trued\n",
    "    "
   ]
  },
  {
   "cell_type": "code",
   "execution_count": 6,
   "metadata": {
    "collapsed": true
   },
   "outputs": [],
   "source": [
    "#obfuscation\n",
    "def do_obfuscate(rule_num):\n",
    "    opcode_obfuscated = []\n",
    "    if rule_num==1:\n",
    "        opcode_obfuscated.append('EOR')\n",
    "        return opcode_obfuscated\n",
    "    elif rule_num==2:\n",
    "        opcode_obfuscated.append('EOR')\n",
    "        opcode_obfuscated.append('ADD')\n",
    "        return opcode_obfuscated\n",
    "    elif rule_num==3:\n",
    "        opcode_obfuscated.append('MOV')\n",
    "        opcode_obfuscated.append('ADD')\n",
    "        return opcode_obfuscated\n",
    "    elif rule_num==4:\n",
    "        opcode_obfuscated.append('MLA')\n",
    "        return opcode_obfuscated\n",
    "    elif rule_num==5:\n",
    "        opcode_obfuscated.append('MOV')\n",
    "        return opcode_obfuscated\n",
    "    elif rule_num==6:\n",
    "        opcode_obfuscated.append('MOV')\n",
    "        opcode_obfuscated.append('BIC')\n",
    "        return opcode_obfuscated\n",
    "    elif rule_num==7:\n",
    "        opcode_obfuscated.append('SUB')\n",
    "        return opcode_obfuscated\n",
    "    elif rule_num==8:\n",
    "        opcode_obfuscated.append('MOV')\n",
    "        opcode_obfuscated.append('ORN')\n",
    "        return opcode_obfuscated\n",
    "    elif rule_num==9:\n",
    "        opcode_obfuscated.append('AND')\n",
    "        return opcode_obfuscated"
   ]
  },
  {
   "cell_type": "code",
   "execution_count": 7,
   "metadata": {
    "collapsed": true
   },
   "outputs": [],
   "source": [
    "lamba=.8 # 80% of codes  which satisfied the rules\n",
    "obtained_data= []\n",
    "dir='seprated_asm' # Address of current directory\n",
    "for file in glob.glob(dir+'\\\\*.asm'): \n",
    "    file_asm  = open(file)\n",
    "    data = file_asm.readlines()\n",
    "    \n",
    "    for i in range(len(data)):\n",
    "        data[i] = re.sub(r'\\s', ' ', data[i])\n",
    "    \n",
    "    counter=-1\n",
    "    codes_for_obfuscation = []\n",
    "    for item in data:\n",
    "        counter+=1\n",
    "        item = item.replace(\",\", \"\")\n",
    "        sub_code = item.split()\n",
    "        if not sub_code:\n",
    "            continue\n",
    "        for ins_ in instruction_set:\n",
    "            if  ins_  not in sub_code[0]:\n",
    "                continue\n",
    "            rule_trued = check_obfuscation(item)\n",
    "            if len(rule_trued) != 0:\n",
    "                codes_for_obfuscation.append(counter)   \n",
    "        \n",
    "    data_copy = data[:]\n",
    "    number_of_inculded = int(len(codes_for_obfuscation) * lamba)\n",
    "    selected_indexes_data = []\n",
    "    for i in range(number_of_inculded):\n",
    "        selected_index = random.choice(codes_for_obfuscation)\n",
    "        codes_for_obfuscation.remove(selected_index)\n",
    "        selected_indexes_data.append(selected_index)\n",
    "\n",
    "    selected_indexes_data.sort(reverse=True)\n",
    "    for item in selected_indexes_data:\n",
    "        possible_obfuscations = check_obfuscation(data[item])\n",
    "        reule_selected = random.choice(possible_obfuscations)\n",
    "        opcode_relaced_list = []\n",
    "        opcode_relaced_list = do_obfuscate(reule_selected)\n",
    "        data_copy[item] = opcode_relaced_list[0]\n",
    "        del opcode_relaced_list[0]\n",
    "        for i in range(0,len(opcode_relaced_list)):\n",
    "            data_copy.insert(item+i+1 , opcode_relaced_list[i])\n",
    "\n",
    "    extracted_data=[]\n",
    "    for item in data_copy:\n",
    "        item = item.replace(\",\", \"\")\n",
    "        sub_code = item.split()\n",
    "        if not sub_code:\n",
    "            continue\n",
    "        for ins_ in existing_inst:\n",
    "            if sub_code[0].startswith(ins_):\n",
    "                extracted_data.append(ins_)\n",
    "                continue\n",
    "    sample_obf = ''\n",
    "    for item in extracted_data:\n",
    "        sample_obf = sample_obf + ' ' +item\n",
    "#     obtained_data.append(sample_obf)\n",
    "    \n",
    "    file_name = file.split('\\\\')[-1]\n",
    "    thefile = open('obfuscated-80\\\\'+file_name.split('.')[0]+'.txt', 'w')\n",
    "    thefile.write(\"%s\\n\" % sample_obf)\n",
    "    thefile.close()"
   ]
  },
  {
   "cell_type": "code",
   "execution_count": 8,
   "metadata": {
    "collapsed": true
   },
   "outputs": [],
   "source": [
    "thefile = open('100obfuscated_malwares.txt', 'w')\n",
    "for item in obtained_data:\n",
    "    thefile.write(\"%s\\n\" % item)\n",
    "thefile.close()"
   ]
  },
  {
   "cell_type": "code",
   "execution_count": 8,
   "metadata": {
    "collapsed": true
   },
   "outputs": [],
   "source": [
    "# lambas = [.2,.4,.6,.8,1]\n",
    "lamba=1\n",
    "data_copy = data[:]\n",
    "number_of_inculded = int(len(codes_for_obfuscation) * lamba)\n",
    "selected_indexes_data = []\n",
    "for i in range(number_of_inculded):\n",
    "    selected_index = random.choice(codes_for_obfuscation)\n",
    "    codes_for_obfuscation.remove(selected_index)\n",
    "    selected_indexes_data.append(selected_index)\n",
    "\n",
    "selected_indexes_data.sort(reverse=True)\n",
    "for item in selected_indexes_data:\n",
    "    possible_obfuscations = check_obfuscation(data[item])\n",
    "    reule_selected = random.choice(possible_obfuscations)\n",
    "    opcode_relaced_list = []\n",
    "    opcode_relaced_list = do_obfuscate(reule_selected)\n",
    "    data_copy[item] = opcode_relaced_list[0]\n",
    "    del opcode_relaced_list[0]\n",
    "    for i in range(0,len(opcode_relaced_list)):\n",
    "        data_copy.insert(item+i+1 , opcode_relaced_list[i])"
   ]
  },
  {
   "cell_type": "code",
   "execution_count": 4,
   "metadata": {
    "scrolled": true
   },
   "outputs": [
    {
     "ename": "NameError",
     "evalue": "name 'data' is not defined",
     "output_type": "error",
     "traceback": [
      "\u001b[1;31m---------------------------------------------------------------------------\u001b[0m",
      "\u001b[1;31mNameError\u001b[0m                                 Traceback (most recent call last)",
      "\u001b[1;32m<ipython-input-4-660dedfa680a>\u001b[0m in \u001b[0;36m<module>\u001b[1;34m()\u001b[0m\n\u001b[0;32m      1\u001b[0m \u001b[0mcounter\u001b[0m\u001b[1;33m=\u001b[0m\u001b[1;33m-\u001b[0m\u001b[1;36m1\u001b[0m\u001b[1;33m\u001b[0m\u001b[0m\n\u001b[0;32m      2\u001b[0m \u001b[0mcodes_for_obfuscation\u001b[0m \u001b[1;33m=\u001b[0m \u001b[1;33m[\u001b[0m\u001b[1;33m]\u001b[0m\u001b[1;33m\u001b[0m\u001b[0m\n\u001b[1;32m----> 3\u001b[1;33m \u001b[1;32mfor\u001b[0m \u001b[0mitem\u001b[0m \u001b[1;32min\u001b[0m \u001b[0mdata\u001b[0m\u001b[1;33m:\u001b[0m\u001b[1;33m\u001b[0m\u001b[0m\n\u001b[0m\u001b[0;32m      4\u001b[0m     \u001b[0mcounter\u001b[0m\u001b[1;33m+=\u001b[0m\u001b[1;36m1\u001b[0m\u001b[1;33m\u001b[0m\u001b[0m\n\u001b[0;32m      5\u001b[0m     \u001b[0mitem\u001b[0m \u001b[1;33m=\u001b[0m \u001b[0mitem\u001b[0m\u001b[1;33m.\u001b[0m\u001b[0mreplace\u001b[0m\u001b[1;33m(\u001b[0m\u001b[1;34m\",\"\u001b[0m\u001b[1;33m,\u001b[0m \u001b[1;34m\"\"\u001b[0m\u001b[1;33m)\u001b[0m\u001b[1;33m\u001b[0m\u001b[0m\n",
      "\u001b[1;31mNameError\u001b[0m: name 'data' is not defined"
     ]
    }
   ],
   "source": [
    "counter=-1\n",
    "codes_for_obfuscation = []\n",
    "for item in data:\n",
    "    counter+=1\n",
    "    item = item.replace(\",\", \"\")\n",
    "    sub_code = item.split()\n",
    "    if not sub_code:\n",
    "        continue\n",
    "    for ins_ in instruction_set:\n",
    "        if  ins_  not in sub_code[0]:\n",
    "            continue\n",
    "        rule_trued = check_obfuscation(item)\n",
    "        if len(rule_trued) != 0:\n",
    "            codes_for_obfuscation.append(counter)"
   ]
  },
  {
   "cell_type": "code",
   "execution_count": 12,
   "metadata": {
    "collapsed": true
   },
   "outputs": [],
   "source": [
    "extracted_data=[]\n",
    "for item in data_copy:\n",
    "    item = item.replace(\",\", \"\")\n",
    "    sub_code = item.split()\n",
    "    if not sub_code:\n",
    "        continue\n",
    "    for ins_ in existing_inst:\n",
    "        if sub_code[0].startswith(ins_):\n",
    "            extracted_data.append(ins_)\n",
    "            continue"
   ]
  }
 ],
 "metadata": {
  "kernelspec": {
   "display_name": "Python 3",
   "language": "python",
   "name": "python3"
  },
  "language_info": {
   "codemirror_mode": {
    "name": "ipython",
    "version": 3
   },
   "file_extension": ".py",
   "mimetype": "text/x-python",
   "name": "python",
   "nbconvert_exporter": "python",
   "pygments_lexer": "ipython3",
   "version": "3.6.2"
  }
 },
 "nbformat": 4,
 "nbformat_minor": 2
}
